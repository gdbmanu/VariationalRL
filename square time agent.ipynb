{
 "cells": [
  {
   "cell_type": "code",
   "execution_count": 1,
   "metadata": {
    "collapsed": true
   },
   "outputs": [],
   "source": [
    "from environment import Environment\n",
    "from agent import Agent\n",
    "from trainer import Q_learning_trainer, One_step_variational_trainer, Final_variational_trainer, KL_Q_learning_trainer\n",
    "import matplotlib.pyplot as plt\n",
    "import numpy as np"
   ]
  },
  {
   "cell_type": "code",
   "execution_count": 2,
   "metadata": {
    "collapsed": true
   },
   "outputs": [],
   "source": [
    "# Hyperparameters"
   ]
  },
  {
   "cell_type": "code",
   "execution_count": 3,
   "metadata": {
    "collapsed": true
   },
   "outputs": [],
   "source": [
    "N = 10000 # Number of episodes\n",
    "side = 10"
   ]
  },
  {
   "cell_type": "code",
   "execution_count": 4,
   "metadata": {
    "collapsed": true
   },
   "outputs": [],
   "source": [
    "# Agent/Environment initialization"
   ]
  },
  {
   "cell_type": "code",
   "execution_count": 5,
   "metadata": {
    "collapsed": false
   },
   "outputs": [
    {
     "name": "stdout",
     "output_type": "stream",
     "text": [
      "{0: {'E': 1, 'S': 10}, 1: {'E': 2, 'W': 0, 'S': 11}, 2: {'E': 3, 'W': 1, 'S': 12}, 3: {'E': 4, 'W': 2, 'S': 13}, 4: {'E': 5, 'W': 3, 'S': 14}, 5: {'E': 6, 'W': 4, 'S': 15}, 6: {'E': 7, 'W': 5, 'S': 16}, 7: {'E': 8, 'W': 6, 'S': 17}, 8: {'E': 9, 'W': 7, 'S': 18}, 9: {'W': 8, 'S': 19}, 10: {'E': 11, 'S': 20, 'N': 0}, 11: {'E': 12, 'W': 10, 'S': 21, 'N': 1}, 12: {'E': 13, 'W': 11, 'S': 22, 'N': 2}, 13: {'E': 14, 'W': 12, 'S': 23, 'N': 3}, 14: {'E': 15, 'W': 13, 'S': 24, 'N': 4}, 15: {'E': 16, 'W': 14, 'S': 25, 'N': 5}, 16: {'E': 17, 'W': 15, 'S': 26, 'N': 6}, 17: {'E': 18, 'W': 16, 'S': 27, 'N': 7}, 18: {'E': 19, 'W': 17, 'S': 28, 'N': 8}, 19: {'W': 18, 'S': 29, 'N': 9}, 20: {'E': 21, 'S': 30, 'N': 10}, 21: {'E': 22, 'W': 20, 'S': 31, 'N': 11}, 22: {'E': 23, 'W': 21, 'S': 32, 'N': 12}, 23: {'E': 24, 'W': 22, 'S': 33, 'N': 13}, 24: {'E': 25, 'W': 23, 'S': 34, 'N': 14}, 25: {'E': 26, 'W': 24, 'S': 35, 'N': 15}, 26: {'E': 27, 'W': 25, 'S': 36, 'N': 16}, 27: {'E': 28, 'W': 26, 'S': 37, 'N': 17}, 28: {'E': 29, 'W': 27, 'S': 38, 'N': 18}, 29: {'W': 28, 'S': 39, 'N': 19}, 30: {'E': 31, 'S': 40, 'N': 20}, 31: {'E': 32, 'W': 30, 'S': 41, 'N': 21}, 32: {'E': 33, 'W': 31, 'S': 42, 'N': 22}, 33: {'E': 34, 'W': 32, 'S': 43, 'N': 23}, 34: {'E': 35, 'W': 33, 'S': 44, 'N': 24}, 35: {'E': 36, 'W': 34, 'S': 45, 'N': 25}, 36: {'E': 37, 'W': 35, 'S': 46, 'N': 26}, 37: {'E': 38, 'W': 36, 'S': 47, 'N': 27}, 38: {'E': 39, 'W': 37, 'S': 48, 'N': 28}, 39: {'W': 38, 'S': 49, 'N': 29}, 40: {'E': 41, 'S': 50, 'N': 30}, 41: {'E': 42, 'W': 40, 'S': 51, 'N': 31}, 42: {'E': 43, 'W': 41, 'S': 52, 'N': 32}, 43: {'E': 44, 'W': 42, 'S': 53, 'N': 33}, 44: {'E': 45, 'W': 43, 'S': 54, 'N': 34}, 45: {'E': 46, 'W': 44, 'S': 55, 'N': 35}, 46: {'E': 47, 'W': 45, 'S': 56, 'N': 36}, 47: {'E': 48, 'W': 46, 'S': 57, 'N': 37}, 48: {'E': 49, 'W': 47, 'S': 58, 'N': 38}, 49: {'W': 48, 'S': 59, 'N': 39}, 50: {'E': 51, 'S': 60, 'N': 40}, 51: {'E': 52, 'W': 50, 'S': 61, 'N': 41}, 52: {'E': 53, 'W': 51, 'S': 62, 'N': 42}, 53: {'E': 54, 'W': 52, 'S': 63, 'N': 43}, 54: {'E': 55, 'W': 53, 'S': 64, 'N': 44}, 55: {'E': 56, 'W': 54, 'S': 65, 'N': 45}, 56: {'E': 57, 'W': 55, 'S': 66, 'N': 46}, 57: {'E': 58, 'W': 56, 'S': 67, 'N': 47}, 58: {'E': 59, 'W': 57, 'S': 68, 'N': 48}, 59: {'W': 58, 'S': 69, 'N': 49}, 60: {'E': 61, 'S': 70, 'N': 50}, 61: {'E': 62, 'W': 60, 'S': 71, 'N': 51}, 62: {'E': 63, 'W': 61, 'S': 72, 'N': 52}, 63: {'E': 64, 'W': 62, 'S': 73, 'N': 53}, 64: {'E': 65, 'W': 63, 'S': 74, 'N': 54}, 65: {'E': 66, 'W': 64, 'S': 75, 'N': 55}, 66: {'E': 67, 'W': 65, 'S': 76, 'N': 56}, 67: {'E': 68, 'W': 66, 'S': 77, 'N': 57}, 68: {'E': 69, 'W': 67, 'S': 78, 'N': 58}, 69: {'W': 68, 'S': 79, 'N': 59}, 70: {'E': 71, 'S': 80, 'N': 60}, 71: {'E': 72, 'W': 70, 'S': 81, 'N': 61}, 72: {'E': 73, 'W': 71, 'S': 82, 'N': 62}, 73: {'E': 74, 'W': 72, 'S': 83, 'N': 63}, 74: {'E': 75, 'W': 73, 'S': 84, 'N': 64}, 75: {'E': 76, 'W': 74, 'S': 85, 'N': 65}, 76: {'E': 77, 'W': 75, 'S': 86, 'N': 66}, 77: {'E': 78, 'W': 76, 'S': 87, 'N': 67}, 78: {'E': 79, 'W': 77, 'S': 88, 'N': 68}, 79: {'W': 78, 'S': 89, 'N': 69}, 80: {'E': 81, 'S': 90, 'N': 70}, 81: {'E': 82, 'W': 80, 'S': 91, 'N': 71}, 82: {'E': 83, 'W': 81, 'S': 92, 'N': 72}, 83: {'E': 84, 'W': 82, 'S': 93, 'N': 73}, 84: {'E': 85, 'W': 83, 'S': 94, 'N': 74}, 85: {'E': 86, 'W': 84, 'S': 95, 'N': 75}, 86: {'E': 87, 'W': 85, 'S': 96, 'N': 76}, 87: {'E': 88, 'W': 86, 'S': 97, 'N': 77}, 88: {'E': 89, 'W': 87, 'S': 98, 'N': 78}, 89: {'W': 88, 'S': 99, 'N': 79}, 90: {'E': 91, 'N': 80}, 91: {'E': 92, 'W': 90, 'N': 81}, 92: {'E': 93, 'W': 91, 'N': 82}, 93: {'E': 94, 'W': 92, 'N': 83}, 94: {'E': 95, 'W': 93, 'N': 84}, 95: {'E': 96, 'W': 94, 'N': 85}, 96: {'E': 97, 'W': 95, 'N': 86}, 97: {'E': 98, 'W': 96, 'N': 87}, 98: {'E': 99, 'W': 97, 'N': 88}, 99: {'W': 98, 'N': 89}}\n",
      "{0: 0, 1: 0, 2: 0, 3: 0, 4: 0, 5: 0, 6: 0, 7: 0, 8: 0, 9: 0, 10: 0, 11: 0, 12: 0, 13: 0, 14: 0, 15: 0, 16: 0, 17: 0, 18: 0, 19: 0, 20: 0, 21: 0, 22: 0, 23: 0, 24: 0, 25: 0, 26: 0, 27: 0, 28: 0, 29: 0, 30: 0, 31: 0, 32: 0, 33: 0, 34: 0, 35: 0, 36: 0, 37: 0, 38: 0, 39: 0, 40: 0, 41: 0, 42: 0, 43: 0, 44: 0, 45: 0, 46: 0, 47: 0, 48: 0, 49: 0, 50: 0, 51: 0, 52: 0, 53: 0, 54: 0, 55: 0, 56: 0, 57: 0, 58: 0, 59: 0, 60: 0, 61: 0, 62: 0, 63: 0, 64: 0, 65: 0, 66: 0, 67: 0, 68: 0, 69: 0, 70: 0, 71: 0, 72: 0, 73: 0, 74: 0, 75: 0, 76: 0, 77: 0, 78: 0, 79: 0, 80: 0, 81: 0, 82: 0, 83: 0, 84: 0, 85: 0, 86: 0, 87: 0, 88: 0, 89: 0, 90: 0, 91: 0, 92: 0, 93: 0, 94: 0, 95: 0, 96: 0, 97: 0, 98: 0, 99: 1}\n"
     ]
    }
   ],
   "source": [
    "env = Environment.square(initial_state_range=0, side = side)\n",
    "\n",
    "#agent = Agent(GAMMA = 1)\n",
    "#agent = Agent(env, GAMMA=1, ALPHA=0.3, BETA=15, do_reward = True)\n",
    "agent = Agent.timeAgent(env, GAMMA=1, ALPHA=0.1, BETA=15, do_reward = True)\n",
    "\n",
    "\n",
    "OBS_LEAK = 1e-2 / env.N_obs\n",
    "#trainer = Q_learning_trainer(agent, OBS_LEAK=OBS_LEAK, monte_carlo = True)\n",
    "trainer = KL_Q_learning_trainer(agent, OBS_LEAK=OBS_LEAK, monte_carlo = True, final = True)\n",
    "#trainer = one_step_variational_trainer(agent)\n",
    "#trainer = Final_variational_trainer(agent, OBS_LEAK=OBS_LEAK, final = True, monte_carlo = True)"
   ]
  },
  {
   "cell_type": "code",
   "execution_count": 6,
   "metadata": {
    "collapsed": false,
    "scrolled": true
   },
   "outputs": [
    {
     "name": "stdout",
     "output_type": "stream",
     "text": [
      "1\n",
      "Trajectory:  [0, 10, 10, 10, 10, 20, 21, 31, 30, 30, 30, 20, 20, 10, 10, 10, 20, 21, 20]\n",
      "Total reward got: 0.0000\n",
      "1001\n",
      "Trajectory:  [0, 1, 2, 3, 4, 5, 15, 5, 15, 16, 17, 27, 28, 29, 39, 49, 48, 49, 59]\n",
      "Total reward got: 0.0000\n",
      "2001\n",
      "Trajectory:  [0, 1, 2, 3, 13, 12, 22, 12, 11, 10, 10, 11, 12, 13, 3, 2, 2, 3, 3]\n",
      "Total reward got: 0.0000\n",
      "3001\n",
      "Trajectory:  [0, 10, 10, 11, 10, 10, 20, 21, 31, 30, 31, 32, 31, 32, 42, 52, 51, 50, 40]\n",
      "Total reward got: 0.0000\n",
      "4001\n",
      "Trajectory:  [0, 10, 10, 11, 21, 20, 21, 11, 10, 10, 10, 11, 10, 11, 1, 11, 1, 2, 12]\n",
      "Total reward got: 0.0000\n",
      "5001\n",
      "Trajectory:  [0, 1, 0, 0, 10, 0, 1, 2, 12, 11, 12, 22, 23, 24, 25, 24, 14, 24, 34]\n",
      "Total reward got: 0.0000\n",
      "6001\n",
      "Trajectory:  [0, 10, 11, 12, 22, 12, 13, 3, 13, 12, 2, 3, 4, 5, 15, 25, 15, 14, 4]\n",
      "Total reward got: 0.0000\n",
      "7001\n",
      "Trajectory:  [0, 10, 11, 21, 22, 23, 24, 25, 35, 36, 37, 38, 39, 39, 49, 59, 59, 69, 79]\n",
      "Total reward got: 0.0000\n",
      "8001\n",
      "Trajectory:  [0, 1, 0, 0, 1, 1, 2, 2, 1, 0, 0, 1, 0, 1, 2, 1, 1, 0, 10]\n",
      "Total reward got: 0.0000\n",
      "9001\n",
      "Trajectory:  [0, 10, 10, 20, 20, 10, 11, 21, 20, 20, 20, 30, 30, 31, 21, 31, 30, 40, 40]\n",
      "Total reward got: 0.0000\n"
     ]
    }
   ],
   "source": [
    "for i in range(N):\n",
    "    trainer.run_episode()\n",
    "    if i%1000 ==0:\n",
    "        #plt.figure(figsize = (4, 4))\n",
    "        #plt.plot(agent.KL.flatten())\n",
    "        print(trainer.nb_trials)\n",
    "        print(\"Trajectory: \", trainer.trajectory)\n",
    "        print(\"Total reward got: %.4f\" % trainer.total_reward)"
   ]
  },
  {
   "cell_type": "code",
   "execution_count": 7,
   "metadata": {
    "collapsed": false
   },
   "outputs": [
    {
     "data": {
      "text/plain": [
       "array([[-0.11698272, -0.10133331, -0.68044588, -0.73928224],\n",
       "       [-0.09328041, -0.68216763, -0.1169257 , -0.50833032],\n",
       "       [-0.0787114 , -0.13349459, -0.51270528, -0.11198085],\n",
       "       [-0.07115682, -0.11910444, -0.19879938, -0.56645837],\n",
       "       [-0.046018  , -0.74908963, -0.16082456, -0.12137041],\n",
       "       [-0.11412096, -0.10279953, -0.78643292, -0.83957584],\n",
       "       [-0.09052633, -0.12610203, -0.81347892, -0.13712599],\n",
       "       [-0.58738347, -0.10498992, -0.11968262, -0.74748187],\n",
       "       [-0.11675184, -0.74097696, -0.11395675, -0.79081787],\n",
       "       [-0.08892725, -0.79201365, -0.10851023, -0.13242216],\n",
       "       [-0.09605118, -0.13783398, -0.79706041, -0.72457267],\n",
       "       [-0.07656853, -0.73492349, -0.19385024, -0.59650908],\n",
       "       [-0.11318363, -0.64761242, -0.78701339, -0.79235713],\n",
       "       [-0.11562812, -0.09474966, -0.78166155, -0.09797331],\n",
       "       [-0.69576002, -0.07618532, -0.11494222, -0.1473625 ],\n",
       "       [-0.12824818, -0.74508265, -0.11930475, -0.07106835],\n",
       "       [-0.11712977, -0.12624609, -0.07579941, -0.84941443],\n",
       "       [-0.78359486, -0.10404549, -0.12482693, -0.08503164]])"
      ]
     },
     "execution_count": 7,
     "metadata": {},
     "output_type": "execute_result"
    }
   ],
   "source": [
    "agent.Q_var"
   ]
  },
  {
   "cell_type": "code",
   "execution_count": 8,
   "metadata": {
    "collapsed": false
   },
   "outputs": [
    {
     "data": {
      "text/plain": [
       "array([-0.11698272, -0.10133331, -0.68044588, -0.73928224])"
      ]
     },
     "execution_count": 8,
     "metadata": {},
     "output_type": "execute_result"
    }
   ],
   "source": [
    "obs = env.get_observation()\n",
    "agent.Q_var[0,:]"
   ]
  },
  {
   "cell_type": "code",
   "execution_count": 9,
   "metadata": {
    "collapsed": false,
    "scrolled": false
   },
   "outputs": [
    {
     "data": {
      "text/plain": [
       "<matplotlib.image.AxesImage at 0x7faadd98c518>"
      ]
     },
     "execution_count": 9,
     "metadata": {},
     "output_type": "execute_result"
    },
    {
     "data": {
      "image/png": "[encoded data removed]",
      "text/plain": [
       "<Figure size 432x288 with 2 Axes>"
      ]
     },
     "metadata": {
      "needs_background": "light"
     },
     "output_type": "display_data"
    }
   ],
   "source": [
    "plt.subplot(1,2,1)\n",
    "plt.plot(agent.Q_ref.flatten())\n",
    "plt.subplot(1,2,2)\n",
    "plt.imshow(agent.Q_ref)"
   ]
  },
  {
   "cell_type": "code",
   "execution_count": 10,
   "metadata": {
    "collapsed": false
   },
   "outputs": [
    {
     "data": {
      "text/plain": [
       "<matplotlib.image.AxesImage at 0x7faadd8e7da0>"
      ]
     },
     "execution_count": 10,
     "metadata": {},
     "output_type": "execute_result"
    },
    {
     "data": {
      "image/png": "[encoded data removed]",
      "text/plain": [
       "<Figure size 432x288 with 2 Axes>"
      ]
     },
     "metadata": {
      "needs_background": "light"
     },
     "output_type": "display_data"
    }
   ],
   "source": [
    "#print('KL', agent.KL)\n",
    "plt.subplot(1,2,1)\n",
    "plt.plot(agent.KL.flatten())\n",
    "plt.subplot(1,2,2)\n",
    "plt.imshow(agent.KL)"
   ]
  },
  {
   "cell_type": "code",
   "execution_count": 11,
   "metadata": {
    "collapsed": false
   },
   "outputs": [
    {
     "data": {
      "text/plain": [
       "<matplotlib.image.AxesImage at 0x7faadd804f28>"
      ]
     },
     "execution_count": 11,
     "metadata": {},
     "output_type": "execute_result"
    },
    {
     "data": {
      "image/png": "[encoded data removed]",
      "text/plain": [
       "<Figure size 432x288 with 2 Axes>"
      ]
     },
     "metadata": {
      "needs_background": "light"
     },
     "output_type": "display_data"
    }
   ],
   "source": [
    "plt.subplot(1,2,1)\n",
    "plt.plot(agent.Q_var.flatten())\n",
    "plt.subplot(1,2,2)\n",
    "plt.imshow(agent.Q_var)"
   ]
  },
  {
   "cell_type": "code",
   "execution_count": 12,
   "metadata": {
    "collapsed": false
   },
   "outputs": [
    {
     "data": {
      "text/plain": [
       "<matplotlib.image.AxesImage at 0x7faadd6977f0>"
      ]
     },
     "execution_count": 12,
     "metadata": {},
     "output_type": "execute_result"
    },
    {
     "data": {
      "image/png": "[encoded data removed]",
      "text/plain": [
       "<Figure size 864x360 with 2 Axes>"
      ]
     },
     "metadata": {
      "needs_background": "light"
     },
     "output_type": "display_data"
    }
   ],
   "source": [
    "plt.figure(figsize = (12,5))\n",
    "plt.subplot(1,2,1)\n",
    "plt.bar(range(env.N_obs), trainer.nb_visits_final)\n",
    "plt.subplot(1,2,2)\n",
    "plt.imshow(trainer.nb_visits_final.reshape(side,side))"
   ]
  },
  {
   "cell_type": "code",
   "execution_count": 13,
   "metadata": {
    "collapsed": false
   },
   "outputs": [
    {
     "data": {
      "text/plain": [
       "<matplotlib.image.AxesImage at 0x7faadd5b8048>"
      ]
     },
     "execution_count": 13,
     "metadata": {},
     "output_type": "execute_result"
    },
    {
     "data": {
      "image/png": "[encoded data removed]",
      "text/plain": [
       "<Figure size 864x360 with 2 Axes>"
      ]
     },
     "metadata": {
      "needs_background": "light"
     },
     "output_type": "display_data"
    }
   ],
   "source": [
    "plt.figure(figsize = (12,5))\n",
    "plt.subplot(1,2,1)\n",
    "plt.bar(range(env.N_obs), trainer.nb_visits)\n",
    "plt.subplot(1,2,2)\n",
    "plt.imshow(trainer.nb_visits.reshape(side,side))"
   ]
  },
  {
   "cell_type": "code",
   "execution_count": 14,
   "metadata": {
    "collapsed": false
   },
   "outputs": [
    {
     "name": "stdout",
     "output_type": "stream",
     "text": [
      "[ 0.75453656 64.40476446 57.41189268 73.48346051 69.81771717 66.06805539\n",
      " 66.98894096 61.30223974 58.53854262 75.51625955 54.37038363 71.88392852\n",
      " 84.42181502 72.60546677 85.6126024  76.90447228 71.96891892 61.2213662\n",
      " 59.85764645 62.3414053  63.63391546 75.70438285 79.6469458  86.90709253\n",
      " 78.18974418 78.10147033 72.6806116  62.93589274 42.49502986 63.43070655\n",
      " 65.08873808 74.72908602 76.68464176 78.29875714 72.91569717 79.72994217\n",
      " 60.60963903 56.3474237  57.12846488 68.38127807 57.13797272 59.85136509\n",
      " 72.85458344 82.51124824 75.84225828 78.7543128  71.84328985 61.90626947\n",
      " 42.94097288 57.62763703 58.61722869 64.11765076 78.28478786 75.27842787\n",
      " 66.66628133 67.78153609 61.28755429 62.15527123 53.47622521 60.39176452\n",
      " 53.63837702 61.42338281 71.65458816 70.57105227 82.10197625 66.94303889\n",
      " 72.86574489 53.84447487 58.2434779  66.1253069  55.5979805  53.10683675\n",
      " 59.41818974 51.86856257 61.45168659 51.29328603 55.32652296 62.8511025\n",
      " 57.57246796 50.00946702 39.61422566 47.9696668  52.02569056 47.26389525\n",
      " 49.38363229 47.03023709 50.83056078 52.25083396 36.36182216 55.72880981\n",
      " 69.98135855 62.08580703 67.16578363 73.34756608 66.45222179 52.20216549\n",
      " 60.35387102 52.12450956 44.42069112 80.44815175]\n"
     ]
    },
    {
     "data": {
      "text/plain": [
       "<matplotlib.image.AxesImage at 0x7f2b9e396c88>"
      ]
     },
     "execution_count": 14,
     "metadata": {},
     "output_type": "execute_result"
    },
    {
     "data": {
      "image/png": "[encoded data removed]",
      "text/plain": [
       "<Figure size 864x360 with 2 Axes>"
      ]
     },
     "metadata": {
      "needs_background": "light"
     },
     "output_type": "display_data"
    }
   ],
   "source": [
    "print(trainer.obs_score_final)\n",
    "plt.figure(figsize = (12,5))\n",
    "plt.subplot(1,2,1)\n",
    "plt.bar(range(env.N_obs), trainer.obs_score_final)\n",
    "plt.subplot(1,2,2)\n",
    "plt.imshow(trainer.obs_score_final.reshape(side,side))"
   ]
  },
  {
   "cell_type": "code",
   "execution_count": 15,
   "metadata": {
    "collapsed": false
   },
   "outputs": [
    {
     "name": "stdout",
     "output_type": "stream",
     "text": [
      "[ 0.75453656 64.40476446 57.41189268 73.48346051 69.81771717 66.06805539\n",
      " 66.98894096 61.30223974 58.53854262 75.51625955 54.37038363 71.88392852\n",
      " 84.42181502 72.60546677 85.6126024  76.90447228 71.96891892 61.2213662\n",
      " 59.85764645 62.3414053  63.63391546 75.70438285 79.6469458  86.90709253\n",
      " 78.18974418 78.10147033 72.6806116  62.93589274 42.49502986 63.43070655\n",
      " 65.08873808 74.72908602 76.68464176 78.29875714 72.91569717 79.72994217\n",
      " 60.60963903 56.3474237  57.12846488 68.38127807 57.13797272 59.85136509\n",
      " 72.85458344 82.51124824 75.84225828 78.7543128  71.84328985 61.90626947\n",
      " 42.94097288 57.62763703 58.61722869 64.11765076 78.28478786 75.27842787\n",
      " 66.66628133 67.78153609 61.28755429 62.15527123 53.47622521 60.39176452\n",
      " 53.63837702 61.42338281 71.65458816 70.57105227 82.10197625 66.94303889\n",
      " 72.86574489 53.84447487 58.2434779  66.1253069  55.5979805  53.10683675\n",
      " 59.41818974 51.86856257 61.45168659 51.29328603 55.32652296 62.8511025\n",
      " 57.57246796 50.00946702 39.61422566 47.9696668  52.02569056 47.26389525\n",
      " 49.38363229 47.03023709 50.83056078 52.25083396 36.36182216 55.72880981\n",
      " 69.98135855 62.08580703 67.16578363 73.34756608 66.45222179 52.20216549\n",
      " 60.35387102 52.12450956 44.42069112 80.44815175]\n"
     ]
    },
    {
     "data": {
      "text/plain": [
       "<matplotlib.image.AxesImage at 0x7f2b9e1ab860>"
      ]
     },
     "execution_count": 15,
     "metadata": {},
     "output_type": "execute_result"
    },
    {
     "data": {
      "image/png": "[encoded data removed]",
      "text/plain": [
       "<Figure size 864x360 with 2 Axes>"
      ]
     },
     "metadata": {
      "needs_background": "light"
     },
     "output_type": "display_data"
    }
   ],
   "source": [
    "print(trainer.obs_score_final)\n",
    "plt.figure(figsize = (12,5))\n",
    "plt.subplot(1,2,1)\n",
    "plt.bar(range(env.N_obs), trainer.obs_score)\n",
    "plt.subplot(1,2,2)\n",
    "plt.imshow(trainer.obs_score.reshape(side,side))"
   ]
  },
  {
   "cell_type": "code",
   "execution_count": 16,
   "metadata": {
    "collapsed": false,
    "scrolled": false
   },
   "outputs": [
    {
     "ename": "KeyError",
     "evalue": "500",
     "output_type": "error",
     "traceback": [
      "\u001b[0;31m---------------------------------------------------------------------------\u001b[0m",
      "\u001b[0;31mKeyError\u001b[0m                                  Traceback (most recent call last)",
      "\u001b[0;32m<ipython-input-16-0e3cc4e382a6>\u001b[0m in \u001b[0;36m<module>\u001b[0;34m\u001b[0m\n\u001b[1;32m      2\u001b[0m \u001b[0;32mfor\u001b[0m \u001b[0mi\u001b[0m \u001b[0;32min\u001b[0m \u001b[0mrange\u001b[0m\u001b[0;34m(\u001b[0m\u001b[0;36m1\u001b[0m\u001b[0;34m,\u001b[0m \u001b[0;36m21\u001b[0m\u001b[0;34m)\u001b[0m\u001b[0;34m:\u001b[0m\u001b[0;34m\u001b[0m\u001b[0;34m\u001b[0m\u001b[0m\n\u001b[1;32m      3\u001b[0m     \u001b[0mplt\u001b[0m\u001b[0;34m.\u001b[0m\u001b[0msubplot\u001b[0m\u001b[0;34m(\u001b[0m\u001b[0;36m4\u001b[0m\u001b[0;34m,\u001b[0m\u001b[0;36m5\u001b[0m\u001b[0;34m,\u001b[0m\u001b[0mi\u001b[0m\u001b[0;34m)\u001b[0m\u001b[0;34m\u001b[0m\u001b[0;34m\u001b[0m\u001b[0m\n\u001b[0;32m----> 4\u001b[0;31m     \u001b[0mplt\u001b[0m\u001b[0;34m.\u001b[0m\u001b[0mimshow\u001b[0m\u001b[0;34m(\u001b[0m\u001b[0mtrainer\u001b[0m\u001b[0;34m.\u001b[0m\u001b[0mmem_V\u001b[0m\u001b[0;34m[\u001b[0m\u001b[0mi\u001b[0m \u001b[0;34m*\u001b[0m \u001b[0mN\u001b[0m\u001b[0;34m//\u001b[0m\u001b[0;36m20\u001b[0m\u001b[0;34m]\u001b[0m\u001b[0;34m.\u001b[0m\u001b[0mreshape\u001b[0m\u001b[0;34m(\u001b[0m\u001b[0mside\u001b[0m\u001b[0;34m,\u001b[0m\u001b[0mside\u001b[0m\u001b[0;34m)\u001b[0m\u001b[0;34m)\u001b[0m\u001b[0;34m\u001b[0m\u001b[0;34m\u001b[0m\u001b[0m\n\u001b[0m",
      "\u001b[0;31mKeyError\u001b[0m: 500"
     ]
    },
    {
     "data": {
      "image/png": "[encoded data removed]",
      "text/plain": [
       "<Figure size 1080x1440 with 1 Axes>"
      ]
     },
     "metadata": {
      "needs_background": "light"
     },
     "output_type": "display_data"
    }
   ],
   "source": [
    "plt.figure(figsize=(15,20))\n",
    "for i in range(1, 21):\n",
    "    plt.subplot(4,5,i)\n",
    "    plt.imshow(trainer.mem_V[i * N//20].reshape(side,side))"
   ]
  },
  {
   "cell_type": "code",
   "execution_count": null,
   "metadata": {
    "collapsed": true
   },
   "outputs": [],
   "source": []
  },
  {
   "cell_type": "code",
   "execution_count": null,
   "metadata": {
    "collapsed": true
   },
   "outputs": [],
   "source": [
    "trainer.mem_V"
   ]
  },
  {
   "cell_type": "code",
   "execution_count": null,
   "metadata": {
    "collapsed": true
   },
   "outputs": [],
   "source": []
  },
  {
   "cell_type": "code",
   "execution_count": null,
   "metadata": {
    "collapsed": true
   },
   "outputs": [],
   "source": []
  },
  {
   "cell_type": "code",
   "execution_count": null,
   "metadata": {
    "collapsed": true
   },
   "outputs": [],
   "source": []
  },
  {
   "cell_type": "code",
   "execution_count": null,
   "metadata": {
    "collapsed": true
   },
   "outputs": [],
   "source": []
  },
  {
   "cell_type": "code",
   "execution_count": null,
   "metadata": {
    "collapsed": true
   },
   "outputs": [],
   "source": []
  },
  {
   "cell_type": "code",
   "execution_count": null,
   "metadata": {
    "collapsed": true
   },
   "outputs": [],
   "source": []
  },
  {
   "cell_type": "code",
   "execution_count": null,
   "metadata": {
    "collapsed": true
   },
   "outputs": [],
   "source": []
  },
  {
   "cell_type": "code",
   "execution_count": null,
   "metadata": {
    "collapsed": true
   },
   "outputs": [],
   "source": []
  }
 ],
 "metadata": {
  "kernelspec": {
   "display_name": "Python 3",
   "language": "python",
   "name": "python3"
  },
  "language_info": {
   "codemirror_mode": {
    "name": "ipython",
    "version": 3
   },
   "file_extension": ".py",
   "mimetype": "text/x-python",
   "name": "python",
   "nbconvert_exporter": "python",
   "pygments_lexer": "ipython3",
   "version": "3.5.3"
  }
 },
 "nbformat": 4,
 "nbformat_minor": 2
}
