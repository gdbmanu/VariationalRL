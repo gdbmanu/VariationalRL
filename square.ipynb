{
 "cells": [
  {
   "cell_type": "code",
   "execution_count": 1,
   "metadata": {},
   "outputs": [],
   "source": [
    "from environment import Environment\n",
    "from agent import Agent\n",
    "from trainer import Q_learning_trainer, One_step_variational_trainer, Final_variational_trainer, KL_Q_learning_trainer\n",
    "import matplotlib.pyplot as plt\n",
    "import numpy as np"
   ]
  },
  {
   "cell_type": "code",
   "execution_count": 2,
   "metadata": {},
   "outputs": [],
   "source": [
    "# Hyperparameters"
   ]
  },
  {
   "cell_type": "code",
   "execution_count": 59,
   "metadata": {},
   "outputs": [],
   "source": [
    "N = 10000 # Number of episodes\n",
    "side = 10"
   ]
  },
  {
   "cell_type": "code",
   "execution_count": 60,
   "metadata": {},
   "outputs": [],
   "source": [
    "# Agent/Environment initialization"
   ]
  },
  {
   "cell_type": "code",
   "execution_count": 68,
   "metadata": {},
   "outputs": [
    {
     "name": "stdout",
     "output_type": "stream",
     "text": [
      "{0: {'E': 1, 'S': 10}, 1: {'E': 2, 'W': 0, 'S': 11}, 2: {'E': 3, 'W': 1, 'S': 12}, 3: {'E': 4, 'W': 2, 'S': 13}, 4: {'E': 5, 'W': 3, 'S': 14}, 5: {'E': 6, 'W': 4, 'S': 15}, 6: {'E': 7, 'W': 5, 'S': 16}, 7: {'E': 8, 'W': 6, 'S': 17}, 8: {'E': 9, 'W': 7, 'S': 18}, 9: {'W': 8, 'S': 19}, 10: {'E': 11, 'S': 20, 'N': 0}, 11: {'E': 12, 'W': 10, 'S': 21, 'N': 1}, 12: {'E': 13, 'W': 11, 'S': 22, 'N': 2}, 13: {'E': 14, 'W': 12, 'S': 23, 'N': 3}, 14: {'E': 15, 'W': 13, 'S': 24, 'N': 4}, 15: {'E': 16, 'W': 14, 'S': 25, 'N': 5}, 16: {'E': 17, 'W': 15, 'S': 26, 'N': 6}, 17: {'E': 18, 'W': 16, 'S': 27, 'N': 7}, 18: {'E': 19, 'W': 17, 'S': 28, 'N': 8}, 19: {'W': 18, 'S': 29, 'N': 9}, 20: {'E': 21, 'S': 30, 'N': 10}, 21: {'E': 22, 'W': 20, 'S': 31, 'N': 11}, 22: {'E': 23, 'W': 21, 'S': 32, 'N': 12}, 23: {'E': 24, 'W': 22, 'S': 33, 'N': 13}, 24: {'E': 25, 'W': 23, 'S': 34, 'N': 14}, 25: {'E': 26, 'W': 24, 'S': 35, 'N': 15}, 26: {'E': 27, 'W': 25, 'S': 36, 'N': 16}, 27: {'E': 28, 'W': 26, 'S': 37, 'N': 17}, 28: {'E': 29, 'W': 27, 'S': 38, 'N': 18}, 29: {'W': 28, 'S': 39, 'N': 19}, 30: {'E': 31, 'S': 40, 'N': 20}, 31: {'E': 32, 'W': 30, 'S': 41, 'N': 21}, 32: {'E': 33, 'W': 31, 'S': 42, 'N': 22}, 33: {'E': 34, 'W': 32, 'S': 43, 'N': 23}, 34: {'E': 35, 'W': 33, 'S': 44, 'N': 24}, 35: {'E': 36, 'W': 34, 'S': 45, 'N': 25}, 36: {'E': 37, 'W': 35, 'S': 46, 'N': 26}, 37: {'E': 38, 'W': 36, 'S': 47, 'N': 27}, 38: {'E': 39, 'W': 37, 'S': 48, 'N': 28}, 39: {'W': 38, 'S': 49, 'N': 29}, 40: {'E': 41, 'S': 50, 'N': 30}, 41: {'E': 42, 'W': 40, 'S': 51, 'N': 31}, 42: {'E': 43, 'W': 41, 'S': 52, 'N': 32}, 43: {'E': 44, 'W': 42, 'S': 53, 'N': 33}, 44: {'E': 45, 'W': 43, 'S': 54, 'N': 34}, 45: {'E': 46, 'W': 44, 'S': 55, 'N': 35}, 46: {'E': 47, 'W': 45, 'S': 56, 'N': 36}, 47: {'E': 48, 'W': 46, 'S': 57, 'N': 37}, 48: {'E': 49, 'W': 47, 'S': 58, 'N': 38}, 49: {'W': 48, 'S': 59, 'N': 39}, 50: {'E': 51, 'S': 60, 'N': 40}, 51: {'E': 52, 'W': 50, 'S': 61, 'N': 41}, 52: {'E': 53, 'W': 51, 'S': 62, 'N': 42}, 53: {'E': 54, 'W': 52, 'S': 63, 'N': 43}, 54: {'E': 55, 'W': 53, 'S': 64, 'N': 44}, 55: {'E': 56, 'W': 54, 'S': 65, 'N': 45}, 56: {'E': 57, 'W': 55, 'S': 66, 'N': 46}, 57: {'E': 58, 'W': 56, 'S': 67, 'N': 47}, 58: {'E': 59, 'W': 57, 'S': 68, 'N': 48}, 59: {'W': 58, 'S': 69, 'N': 49}, 60: {'E': 61, 'S': 70, 'N': 50}, 61: {'E': 62, 'W': 60, 'S': 71, 'N': 51}, 62: {'E': 63, 'W': 61, 'S': 72, 'N': 52}, 63: {'E': 64, 'W': 62, 'S': 73, 'N': 53}, 64: {'E': 65, 'W': 63, 'S': 74, 'N': 54}, 65: {'E': 66, 'W': 64, 'S': 75, 'N': 55}, 66: {'E': 67, 'W': 65, 'S': 76, 'N': 56}, 67: {'E': 68, 'W': 66, 'S': 77, 'N': 57}, 68: {'E': 69, 'W': 67, 'S': 78, 'N': 58}, 69: {'W': 68, 'S': 79, 'N': 59}, 70: {'E': 71, 'S': 80, 'N': 60}, 71: {'E': 72, 'W': 70, 'S': 81, 'N': 61}, 72: {'E': 73, 'W': 71, 'S': 82, 'N': 62}, 73: {'E': 74, 'W': 72, 'S': 83, 'N': 63}, 74: {'E': 75, 'W': 73, 'S': 84, 'N': 64}, 75: {'E': 76, 'W': 74, 'S': 85, 'N': 65}, 76: {'E': 77, 'W': 75, 'S': 86, 'N': 66}, 77: {'E': 78, 'W': 76, 'S': 87, 'N': 67}, 78: {'E': 79, 'W': 77, 'S': 88, 'N': 68}, 79: {'W': 78, 'S': 89, 'N': 69}, 80: {'E': 81, 'S': 90, 'N': 70}, 81: {'E': 82, 'W': 80, 'S': 91, 'N': 71}, 82: {'E': 83, 'W': 81, 'S': 92, 'N': 72}, 83: {'E': 84, 'W': 82, 'S': 93, 'N': 73}, 84: {'E': 85, 'W': 83, 'S': 94, 'N': 74}, 85: {'E': 86, 'W': 84, 'S': 95, 'N': 75}, 86: {'E': 87, 'W': 85, 'S': 96, 'N': 76}, 87: {'E': 88, 'W': 86, 'S': 97, 'N': 77}, 88: {'E': 89, 'W': 87, 'S': 98, 'N': 78}, 89: {'W': 88, 'S': 99, 'N': 79}, 90: {'E': 91, 'N': 80}, 91: {'E': 92, 'W': 90, 'N': 81}, 92: {'E': 93, 'W': 91, 'N': 82}, 93: {'E': 94, 'W': 92, 'N': 83}, 94: {'E': 95, 'W': 93, 'N': 84}, 95: {'E': 96, 'W': 94, 'N': 85}, 96: {'E': 97, 'W': 95, 'N': 86}, 97: {'E': 98, 'W': 96, 'N': 87}, 98: {'E': 99, 'W': 97, 'N': 88}, 99: {'W': 98, 'N': 89}}\n",
      "{0: 0, 1: 0, 2: 0, 3: 0, 4: 0, 5: 0, 6: 0, 7: 0, 8: 0, 9: 0, 10: 0, 11: 0, 12: 0, 13: 0, 14: 0, 15: 0, 16: 0, 17: 0, 18: 0, 19: 0, 20: 0, 21: 0, 22: 0, 23: 0, 24: 0, 25: 0, 26: 0, 27: 0, 28: 0, 29: 0, 30: 0, 31: 0, 32: 0, 33: 0, 34: 0, 35: 0, 36: 0, 37: 0, 38: 0, 39: 0, 40: 0, 41: 0, 42: 0, 43: 0, 44: 0, 45: 0, 46: 0, 47: 0, 48: 0, 49: 0, 50: 0, 51: 0, 52: 0, 53: 0, 54: 0, 55: 0, 56: 0, 57: 0, 58: 0, 59: 0, 60: 0, 61: 0, 62: 0, 63: 0, 64: 0, 65: 0, 66: 0, 67: 0, 68: 0, 69: 0, 70: 0, 71: 0, 72: 0, 73: 0, 74: 0, 75: 0, 76: 0, 77: 0, 78: 0, 79: 0, 80: 0, 81: 0, 82: 0, 83: 0, 84: 0, 85: 0, 86: 0, 87: 0, 88: 0, 89: 0, 90: 0, 91: 0, 92: 0, 93: 0, 94: 0, 95: 0, 96: 0, 97: 0, 98: 0, 99: 1}\n"
     ]
    }
   ],
   "source": [
    "env = Environment.square(initial_state_range=0, side = side)\n",
    "\n",
    "#agent = Agent(GAMMA = 1)\n",
    "BETA = 5\n",
    "agent = Agent(env, GAMMA=1, ALPHA=0.3 / BETA, BETA=BETA, do_reward = True)\n",
    "#agent = Agent(env, GAMMA=1, ALPHA=0.1, BETA=15, do_reward = True)\n",
    "\n",
    "\n",
    "OBS_LEAK = 1e-2 / env.N_obs\n",
    "#trainer = Q_learning_trainer(agent, OBS_LEAK=OBS_LEAK, monte_carlo = True)\n",
    "#trainer = KL_Q_learning_trainer(agent, OBS_LEAK=OBS_LEAK, monte_carlo = True, final = True)\n",
    "#trainer = one_step_variational_trainer(agent)\n",
    "trainer = Final_variational_trainer(agent, OBS_LEAK=OBS_LEAK, final = False, monte_carlo = False)"
   ]
  },
  {
   "cell_type": "code",
   "execution_count": 69,
   "metadata": {
    "scrolled": true
   },
   "outputs": [
    {
     "name": "stdout",
     "output_type": "stream",
     "text": [
      "1\n",
      "Trajectory:  [0, 10, 0, 1, 2, 3, 4, 3, 4, 5, 15, 16, 6, 16, 17, 7, 7, 17, 18]\n",
      "Total reward got: 0.0000\n",
      "1001\n",
      "Trajectory:  [0, 10, 11, 21, 22, 32, 42, 43, 44, 45, 35, 25, 26, 16, 17, 7, 8, 18, 28]\n",
      "Total reward got: 0.0000\n",
      "2001\n",
      "Trajectory:  [0, 10, 11, 21, 22, 32, 42, 52, 53, 54, 55, 45, 46, 47, 48, 49, 49, 49, 39]\n",
      "Total reward got: 0.0000\n",
      "3001\n",
      "Trajectory:  [0, 10, 11, 21, 22, 32, 42, 41, 51, 61, 71, 81, 82, 83, 84, 85, 75, 76, 77]\n",
      "Total reward got: 0.0000\n",
      "4001\n",
      "Trajectory:  [0, 10, 11, 21, 22, 32, 42, 41, 51, 61, 71, 81, 82, 72, 73, 74, 84, 94, 95]\n",
      "Total reward got: 0.0000\n",
      "5001\n",
      "Trajectory:  [0, 10, 11, 21, 22, 32, 33, 23, 13, 3, 4, 5, 6, 16, 26, 36, 46, 47, 57]\n",
      "Total reward got: 0.0000\n",
      "6001\n",
      "Trajectory:  [0, 10, 11, 21, 22, 32, 33, 43, 44, 54, 64, 65, 66, 67, 68, 58, 48, 49, 39]\n",
      "Total reward got: 0.0000\n",
      "7001\n",
      "Trajectory:  [0, 10, 11, 21, 22, 32, 33, 43, 44, 45, 35, 25, 15, 5, 5, 6, 16, 26, 36]\n",
      "Total reward got: 0.0000\n",
      "8001\n",
      "Trajectory:  [0, 10, 11, 21, 22, 32, 33, 43, 44, 45, 55, 54, 64, 74, 75, 85, 86, 87, 88]\n",
      "Total reward got: 0.0000\n",
      "9001\n",
      "Trajectory:  [0, 10, 11, 21, 22, 32, 33, 43, 44, 45, 46, 36, 37, 27, 17, 27, 17, 27, 17]\n",
      "Total reward got: 0.0000\n"
     ]
    }
   ],
   "source": [
    "for i in range(N):\n",
    "    trainer.run_episode()\n",
    "    if i%1000 ==0:\n",
    "        #plt.figure(figsize = (4, 4))\n",
    "        #plt.plot(agent.KL.flatten())\n",
    "        print(trainer.nb_trials)\n",
    "        print(\"Trajectory: \", trainer.trajectory)\n",
    "        print(\"Total reward got: %.4f\" % trainer.total_reward)"
   ]
  },
  {
   "cell_type": "code",
   "execution_count": 71,
   "metadata": {},
   "outputs": [
    {
     "data": {
      "text/plain": [
       "array([[-1.84768782e+00, -2.30153180e-02, -2.03936294e+00,\n",
       "        -1.75849213e+00],\n",
       "       [-9.37462834e-01, -1.30268421e+00, -1.26744653e+00,\n",
       "        -1.07885318e+00],\n",
       "       [-7.94822600e-02, -7.34289220e-01, -1.09575374e+00,\n",
       "        -9.29059609e-01],\n",
       "       [-1.05758239e+00, -2.93525575e-01, -9.07370435e-01,\n",
       "        -8.19111870e-01],\n",
       "       [-7.44590623e-01,  1.86934445e-01, -5.56176042e-01,\n",
       "        -7.77893210e-01],\n",
       "       [-2.01154767e-01,  1.17006421e+00,  1.27983542e+00,\n",
       "        -1.70510190e-01],\n",
       "       [ 1.78473331e+00,  1.94329755e-01,  1.80077991e+00,\n",
       "         7.80540284e-03],\n",
       "       [ 1.22466525e+00,  3.34528412e-01,  1.18089282e+00,\n",
       "        -8.52572047e-02],\n",
       "       [ 3.49577405e-01,  1.34572210e+00,  6.84200345e-01,\n",
       "         1.27414477e+00],\n",
       "       [ 1.25506934e+00,  1.08475376e+00, -5.23169285e-03,\n",
       "         1.34160626e+00],\n",
       "       [ 3.06076675e-03, -2.77242342e+00, -2.95253044e+00,\n",
       "        -2.73006944e+00],\n",
       "       [-1.89357748e+00, -1.77595413e-02, -1.74208832e+00,\n",
       "        -1.95821323e+00],\n",
       "       [-1.20889651e+00, -1.37544246e+00, -1.44447841e+00,\n",
       "        -9.90630471e-03],\n",
       "       [-5.94955869e-01,  7.04550064e-01,  4.64663990e-01,\n",
       "        -6.60317193e-01],\n",
       "       [-2.19119663e-01, -1.14449012e-01,  9.16934458e-01,\n",
       "         7.67204860e-01],\n",
       "       [ 1.53366453e+00,  4.43161846e-01,  1.82326203e-02,\n",
       "         1.55330865e+00],\n",
       "       [ 1.65591917e+00,  1.53013017e+00,  4.57524821e-02,\n",
       "         1.69285143e+00],\n",
       "       [ 3.97707573e-01,  1.40415429e+00,  8.36263973e-02,\n",
       "         1.44583070e+00],\n",
       "       [ 4.12104426e-02,  8.16670460e-01,  8.05342872e-01,\n",
       "         6.56954423e-01],\n",
       "       [ 1.02695135e-01,  2.16480691e+00,  7.70676814e-02,\n",
       "         2.33813131e+00],\n",
       "       [-1.87616080e+00, -2.00598486e+00, -1.52665312e+00,\n",
       "        -2.02958182e+00],\n",
       "       [ 3.64313135e-03, -2.46440910e+00, -2.86843286e+00,\n",
       "        -2.86734364e+00],\n",
       "       [-1.81792911e+00, -6.69486358e-03, -2.24928500e+00,\n",
       "        -1.89521300e+00],\n",
       "       [-5.51208023e-01, -1.04214174e+00, -9.76048466e-01,\n",
       "        -3.95945949e-02],\n",
       "       [-2.24098230e-01, -4.01806950e-01,  9.74148071e-01,\n",
       "         9.69289410e-01],\n",
       "       [ 4.63110813e-01,  3.15119449e-01,  1.24104783e-01,\n",
       "         5.85227744e-01],\n",
       "       [ 3.89097066e-01,  6.54941912e-02,  1.01765372e-01,\n",
       "         5.03733006e-01],\n",
       "       [ 1.19844401e+00,  5.69856616e-01,  1.23729421e-01,\n",
       "         1.12541246e+00],\n",
       "       [ 2.44298602e+00,  4.96020050e-02,  3.73545998e-02,\n",
       "         2.37863723e+00],\n",
       "       [ 1.61651265e+00,  7.74580904e-02,  3.08928304e-01,\n",
       "         1.76806953e+00],\n",
       "       [-1.31309133e+00, -2.98288861e-02, -1.22038317e+00,\n",
       "        -1.29847002e+00],\n",
       "       [-1.12335087e+00, -9.73686831e-02, -1.43438659e+00,\n",
       "        -1.26003608e+00],\n",
       "       [-1.99494466e-02, -6.58083140e+00, -1.53730243e+00,\n",
       "        -1.96921292e+00],\n",
       "       [-1.65815979e+00, -1.77323148e-02, -1.75950942e+00,\n",
       "        -1.69895183e+00],\n",
       "       [-1.41142283e+00, -1.79789360e+00, -1.63488320e+00,\n",
       "         3.91293744e-03],\n",
       "       [-4.08322970e-01, -1.36290043e+00, -1.21228347e+00,\n",
       "        -1.06629087e+00],\n",
       "       [-1.20383723e+00, -1.31453961e+00, -1.76342735e+00,\n",
       "        -1.10791719e+00],\n",
       "       [ 1.13826122e+00,  9.93686586e-01,  5.67117693e-02,\n",
       "         7.35826035e-01],\n",
       "       [ 1.07327719e+00,  1.34035339e-01,  8.80603167e-01,\n",
       "         1.17796414e-01],\n",
       "       [ 1.97281281e+00,  2.06016654e-01,  4.98558026e-02,\n",
       "         1.94448953e+00],\n",
       "       [-1.25766195e+00, -7.66839627e-01, -1.09235850e+00,\n",
       "        -1.35082800e+00],\n",
       "       [-1.70854815e+00, -2.98292212e-02, -1.64374812e+00,\n",
       "        -2.41507379e+00],\n",
       "       [-3.68445975e+00, -1.72611259e+00, -2.05886571e-02,\n",
       "        -1.76224339e+00],\n",
       "       [-1.02841025e-02, -2.03087109e+00, -1.73299008e+00,\n",
       "        -1.56721919e+00],\n",
       "       [-1.84702978e+00, -2.02701563e+00, -1.75921324e+00,\n",
       "        -1.51792570e-03],\n",
       "       [ 5.56363820e-03, -2.01242786e+00, -1.80709479e+00,\n",
       "        -1.51361194e+00],\n",
       "       [ 1.74466505e-01, -5.32242386e-02, -5.37169331e-01,\n",
       "        -6.37240524e-01],\n",
       "       [ 1.19086132e+00,  1.08153677e+00,  1.05107738e-01,\n",
       "         6.32703386e-01],\n",
       "       [ 2.24972408e+00,  3.66046062e-02,  6.21517048e-02,\n",
       "         2.27543424e+00],\n",
       "       [ 1.61389659e+00,  1.64595124e-01,  2.04616075e-01,\n",
       "         1.64604165e+00],\n",
       "       [-1.26955702e+00, -7.74141356e-01, -1.06958228e+00,\n",
       "        -1.33797436e+00],\n",
       "       [-1.51102093e+00, -6.98403707e-02, -1.63837197e+00,\n",
       "        -1.77803093e+00],\n",
       "       [-1.59353349e-02, -9.94762612e-01, -1.20920609e+00,\n",
       "        -1.17004990e+00],\n",
       "       [-1.12780351e+00, -1.00875396e-02, -1.19847820e+00,\n",
       "        -1.35364270e+00],\n",
       "       [-1.07406088e+00,  7.92187898e-02, -1.44962324e+00,\n",
       "        -1.44425086e+00],\n",
       "       [-1.28273892e+00, -1.30272860e-02, -1.09673872e+00,\n",
       "        -1.28564776e+00],\n",
       "       [ 6.77454730e-01,  6.57371298e-01,  3.89433625e-02,\n",
       "         7.48380161e-01],\n",
       "       [ 1.10609313e+00,  1.00737885e+00,  1.67226283e-01,\n",
       "         2.69594532e-01],\n",
       "       [ 1.24180505e+00,  2.72466952e-01,  6.12522290e-01,\n",
       "         1.24084875e+00],\n",
       "       [ 1.13239870e+00,  1.19145114e+00,  2.97738279e-01,\n",
       "         1.07720184e+00],\n",
       "       [-1.60654815e+00, -2.73861441e-01, -1.32718154e+00,\n",
       "        -1.32663284e+00],\n",
       "       [-1.67918435e+00, -3.67945958e-02, -1.70258479e+00,\n",
       "        -1.62746438e+00],\n",
       "       [-1.37895208e-01, -1.03754589e+00, -1.15388578e+00,\n",
       "        -8.93246240e-01],\n",
       "       [ 2.93512032e-02, -7.09086161e-01, -4.86456100e-01,\n",
       "        -2.78426911e-01],\n",
       "       [-1.13008024e+00,  2.22961693e-02, -1.08088506e+00,\n",
       "        -1.26622027e+00],\n",
       "       [-7.98354905e-01, -3.33325216e-01, -8.99639253e-01,\n",
       "        -1.12046658e+00],\n",
       "       [ 2.02102418e-01,  1.87911636e-01,  1.10784676e-01,\n",
       "         3.62276319e-02],\n",
       "       [ 1.00016701e+00,  9.21807300e-01,  1.26475797e-01,\n",
       "         4.44415199e-01],\n",
       "       [ 7.52355929e-02,  1.39656987e+00,  1.94620950e-01,\n",
       "         1.34068829e+00],\n",
       "       [ 9.06437119e-01,  8.85499407e-01,  4.26106564e-01,\n",
       "         7.45153242e-01],\n",
       "       [-1.53718070e+00, -1.43733925e+00, -1.42593314e+00,\n",
       "        -4.64632302e-02],\n",
       "       [-1.60181159e+00, -2.68935056e-02, -2.22362452e+00,\n",
       "        -1.59366430e+00],\n",
       "       [-8.24110876e-02, -1.40578674e+00, -1.49613510e+00,\n",
       "        -1.26951900e+00],\n",
       "       [-4.50336114e-02, -1.20507134e+00, -1.53918738e+00,\n",
       "        -1.36765028e+00],\n",
       "       [-2.87917749e-02, -8.06868642e-01, -1.56390153e+00,\n",
       "        -1.42394891e+00],\n",
       "       [-5.41699568e-01,  1.48142838e-02, -6.20790837e-01,\n",
       "        -6.26575593e-01],\n",
       "       [ 4.04866583e-01,  1.45571276e-01,  2.14242683e-01,\n",
       "         3.21926707e-01],\n",
       "       [ 1.22486886e+00,  1.10485372e+00,  1.14697147e-01,\n",
       "         1.10099616e+00],\n",
       "       [ 1.73559162e+00,  1.66848805e+00,  8.01748252e-02,\n",
       "         1.05951228e+00],\n",
       "       [ 6.06778529e-02,  2.38153987e+00,  8.73203656e-02,\n",
       "         2.20877850e+00],\n",
       "       [-8.93455222e-01, -6.15763424e-01, -7.43226745e-01,\n",
       "        -1.12741119e+00],\n",
       "       [-5.41823212e-02, -1.51057234e+00, -1.44886218e+00,\n",
       "        -1.76755409e+00],\n",
       "       [-1.28298310e+00, -1.35637385e+00, -1.65928589e+00,\n",
       "        -1.97396419e-01],\n",
       "       [-4.47047652e-02, -1.07768661e-01, -5.80053198e-01,\n",
       "        -5.23035270e-01],\n",
       "       [ 8.82853892e-01,  1.21002433e+00,  1.09780551e+00,\n",
       "         2.47873677e-01],\n",
       "       [ 1.09531758e-01,  5.55351529e-01,  6.13142169e-01,\n",
       "        -1.82069884e-01],\n",
       "       [ 9.32918225e-01,  8.46793486e-01,  9.18344843e-01,\n",
       "         8.03116965e-01],\n",
       "       [ 1.16043889e+00,  1.14396306e+00,  9.54396571e-01,\n",
       "         8.66317509e-02],\n",
       "       [ 1.67595404e-01,  1.87983358e+00,  1.85827024e-01,\n",
       "         1.82094185e+00],\n",
       "       [ 4.70486258e-01,  1.03535816e+00,  1.72826112e-01,\n",
       "         6.96233847e-02],\n",
       "       [-7.00635413e-01, -9.13477020e-01, -9.46479203e-01,\n",
       "        -9.64775531e-01],\n",
       "       [-4.31426034e-01, -7.53688282e-01, -7.69476998e-01,\n",
       "        -9.98195895e-01],\n",
       "       [-2.08452453e-01, -6.37906993e-01, -7.69278960e-01,\n",
       "        -8.55681773e-01],\n",
       "       [ 1.15799410e+00,  8.56071237e-02, -4.98551932e-02,\n",
       "         1.27333572e+00],\n",
       "       [ 5.61897954e-01,  5.54738268e-01,  8.51829622e-01,\n",
       "        -5.19868659e-02],\n",
       "       [ 4.70503926e-01,  5.70577170e-01,  9.87957380e-01,\n",
       "         6.49622336e-01],\n",
       "       [ 5.54420551e-01,  3.17110572e-01,  1.03673646e-01,\n",
       "         4.01086231e-01],\n",
       "       [ 1.34062085e+00,  1.04173231e-01,  7.69131888e-01,\n",
       "         1.07228525e+00],\n",
       "       [ 1.04840792e+00,  3.06250419e-01,  2.36208615e-02,\n",
       "         6.20993493e-01],\n",
       "       [ 0.00000000e+00,  0.00000000e+00,  0.00000000e+00,\n",
       "         0.00000000e+00]])"
      ]
     },
     "execution_count": 71,
     "metadata": {},
     "output_type": "execute_result"
    }
   ],
   "source": [
    "agent.Q_var"
   ]
  },
  {
   "cell_type": "code",
   "execution_count": 72,
   "metadata": {},
   "outputs": [
    {
     "data": {
      "text/plain": [
       "array([-1.84768782, -0.02301532, -2.03936294, -1.75849213])"
      ]
     },
     "execution_count": 72,
     "metadata": {},
     "output_type": "execute_result"
    }
   ],
   "source": [
    "obs = env.get_observation()\n",
    "agent.Q_var[0,:]"
   ]
  },
  {
   "cell_type": "code",
   "execution_count": 73,
   "metadata": {
    "scrolled": false
   },
   "outputs": [
    {
     "data": {
      "text/plain": [
       "<matplotlib.image.AxesImage at 0x7f8b1cc2c550>"
      ]
     },
     "execution_count": 73,
     "metadata": {},
     "output_type": "execute_result"
    },
    {
     "data": {
      "image/png": "[encoded data removed]",
      "text/plain": [
       "<Figure size 432x288 with 2 Axes>"
      ]
     },
     "metadata": {
      "needs_background": "light"
     },
     "output_type": "display_data"
    }
   ],
   "source": [
    "plt.subplot(1,2,1)\n",
    "plt.plot(agent.Q_ref.flatten())\n",
    "plt.subplot(1,2,2)\n",
    "plt.imshow(agent.Q_ref)"
   ]
  },
  {
   "cell_type": "code",
   "execution_count": 74,
   "metadata": {},
   "outputs": [
    {
     "data": {
      "text/plain": [
       "<matplotlib.image.AxesImage at 0x7f8b1cdd9b38>"
      ]
     },
     "execution_count": 74,
     "metadata": {},
     "output_type": "execute_result"
    },
    {
     "data": {
      "image/png": "[encoded data removed]",
      "text/plain": [
       "<Figure size 432x288 with 2 Axes>"
      ]
     },
     "metadata": {
      "needs_background": "light"
     },
     "output_type": "display_data"
    }
   ],
   "source": [
    "#print('KL', agent.KL)\n",
    "plt.subplot(1,2,1)\n",
    "plt.plot(agent.KL.flatten())\n",
    "plt.subplot(1,2,2)\n",
    "plt.imshow(agent.KL)"
   ]
  },
  {
   "cell_type": "code",
   "execution_count": 75,
   "metadata": {},
   "outputs": [
    {
     "data": {
      "text/plain": [
       "<matplotlib.image.AxesImage at 0x7f8b1cd2a710>"
      ]
     },
     "execution_count": 75,
     "metadata": {},
     "output_type": "execute_result"
    },
    {
     "data": {
      "image/png": "[encoded data removed]",
      "text/plain": [
       "<Figure size 432x288 with 2 Axes>"
      ]
     },
     "metadata": {
      "needs_background": "light"
     },
     "output_type": "display_data"
    }
   ],
   "source": [
    "plt.subplot(1,2,1)\n",
    "plt.plot(agent.Q_var.flatten())\n",
    "plt.subplot(1,2,2)\n",
    "plt.imshow(agent.Q_var)"
   ]
  },
  {
   "cell_type": "code",
   "execution_count": 76,
   "metadata": {},
   "outputs": [
    {
     "data": {
      "text/plain": [
       "<matplotlib.image.AxesImage at 0x7f8b1c1093c8>"
      ]
     },
     "execution_count": 76,
     "metadata": {},
     "output_type": "execute_result"
    },
    {
     "data": {
      "image/png": "[encoded data removed]",
      "text/plain": [
       "<Figure size 864x360 with 2 Axes>"
      ]
     },
     "metadata": {
      "needs_background": "light"
     },
     "output_type": "display_data"
    }
   ],
   "source": [
    "plt.figure(figsize = (12,5))\n",
    "plt.subplot(1,2,1)\n",
    "plt.bar(range(env.N_obs), trainer.nb_visits_final)\n",
    "plt.subplot(1,2,2)\n",
    "plt.imshow(trainer.nb_visits_final.reshape(side,side))"
   ]
  },
  {
   "cell_type": "code",
   "execution_count": 77,
   "metadata": {},
   "outputs": [
    {
     "data": {
      "text/plain": [
       "<matplotlib.image.AxesImage at 0x7f8b1c44b470>"
      ]
     },
     "execution_count": 77,
     "metadata": {},
     "output_type": "execute_result"
    },
    {
     "data": {
      "image/png": "[encoded data removed]",
      "text/plain": [
       "<Figure size 864x360 with 2 Axes>"
      ]
     },
     "metadata": {
      "needs_background": "light"
     },
     "output_type": "display_data"
    }
   ],
   "source": [
    "plt.figure(figsize = (12,5))\n",
    "plt.subplot(1,2,1)\n",
    "plt.bar(range(env.N_obs), trainer.nb_visits)\n",
    "plt.subplot(1,2,2)\n",
    "plt.imshow(trainer.nb_visits.reshape(side,side))"
   ]
  },
  {
   "cell_type": "code",
   "execution_count": 78,
   "metadata": {},
   "outputs": [
    {
     "name": "stdout",
     "output_type": "stream",
     "text": [
      "[0.00000000e+00 2.10694457e+00 1.87014389e+02 8.96518040e+00\n",
      " 8.64028051e+01 1.21044746e+01 1.25722737e+02 3.17340196e+01\n",
      " 1.71285326e+02 8.99391330e+01 3.70482285e-01 2.14265334e+00\n",
      " 5.33293952e+00 1.21842542e+02 7.68231250e+00 5.73514308e+01\n",
      " 1.76452327e+01 1.92161210e+02 5.39902369e+01 2.32066644e+02\n",
      " 1.26691570e+00 1.85486056e+00 4.49577187e+00 1.98335443e+00\n",
      " 1.06952519e+01 2.46793931e+00 4.43472175e+01 3.90397212e+00\n",
      " 2.42608480e+02 2.01409720e+02 4.00424064e+00 1.81866270e+01\n",
      " 2.09370706e+00 1.88442819e+00 1.10771529e+00 4.73098472e+01\n",
      " 2.89923537e+00 1.10239973e+02 7.82416324e-01 2.10247609e+02\n",
      " 2.52167900e+01 8.41909570e+00 3.95354725e+00 1.12925230e+00\n",
      " 5.16123064e+00 3.69483282e-01 3.00488766e+01 1.59429015e+00\n",
      " 1.34343337e+02 1.01576132e+02 1.22076322e+01 6.05213971e+00\n",
      " 2.67231768e+00 6.09452721e+01 1.85400778e+00 4.00833925e+01\n",
      " 2.42623415e+00 4.89319969e+01 1.36485005e+00 1.96359864e+02\n",
      " 5.37741420e+01 5.05298951e+00 1.00121946e+01 1.23364813e+00\n",
      " 6.41213768e+01 0.00000000e+00 1.33762010e+02 0.00000000e+00\n",
      " 9.97451067e+01 1.39681987e+02 1.92620116e+01 1.52911130e+01\n",
      " 4.41569834e+00 3.22334926e+01 2.68832064e+00 1.24771981e+02\n",
      " 2.86944916e+00 1.81519902e+02 1.25823649e+00 2.10391112e+02\n",
      " 3.70412590e+01 1.86393154e+01 3.72415398e+01 1.37122880e+01\n",
      " 1.29441379e+02 1.34061013e+01 2.74191360e+02 1.80616883e+01\n",
      " 2.35437390e+02 1.10655803e+01 4.35186063e+01 4.56723281e+01\n",
      " 4.02997236e+01 1.59151490e+02 4.65168540e+01 2.00692658e+02\n",
      " 9.84860827e+01 1.91527461e+02 5.26106258e+01 5.48231318e+02]\n"
     ]
    },
    {
     "data": {
      "text/plain": [
       "<matplotlib.image.AxesImage at 0x7f8b1bc7d7b8>"
      ]
     },
     "execution_count": 78,
     "metadata": {},
     "output_type": "execute_result"
    },
    {
     "data": {
      "image/png": "[encoded data removed]",
      "text/plain": [
       "<Figure size 864x360 with 2 Axes>"
      ]
     },
     "metadata": {
      "needs_background": "light"
     },
     "output_type": "display_data"
    }
   ],
   "source": [
    "print(trainer.obs_score_final)\n",
    "plt.figure(figsize = (12,5))\n",
    "plt.subplot(1,2,1)\n",
    "plt.bar(range(env.N_obs), trainer.obs_score_final)\n",
    "plt.subplot(1,2,2)\n",
    "plt.imshow(trainer.obs_score_final.reshape(side,side))"
   ]
  },
  {
   "cell_type": "code",
   "execution_count": 79,
   "metadata": {},
   "outputs": [
    {
     "name": "stdout",
     "output_type": "stream",
     "text": [
      "[0.00000000e+00 2.10694457e+00 1.87014389e+02 8.96518040e+00\n",
      " 8.64028051e+01 1.21044746e+01 1.25722737e+02 3.17340196e+01\n",
      " 1.71285326e+02 8.99391330e+01 3.70482285e-01 2.14265334e+00\n",
      " 5.33293952e+00 1.21842542e+02 7.68231250e+00 5.73514308e+01\n",
      " 1.76452327e+01 1.92161210e+02 5.39902369e+01 2.32066644e+02\n",
      " 1.26691570e+00 1.85486056e+00 4.49577187e+00 1.98335443e+00\n",
      " 1.06952519e+01 2.46793931e+00 4.43472175e+01 3.90397212e+00\n",
      " 2.42608480e+02 2.01409720e+02 4.00424064e+00 1.81866270e+01\n",
      " 2.09370706e+00 1.88442819e+00 1.10771529e+00 4.73098472e+01\n",
      " 2.89923537e+00 1.10239973e+02 7.82416324e-01 2.10247609e+02\n",
      " 2.52167900e+01 8.41909570e+00 3.95354725e+00 1.12925230e+00\n",
      " 5.16123064e+00 3.69483282e-01 3.00488766e+01 1.59429015e+00\n",
      " 1.34343337e+02 1.01576132e+02 1.22076322e+01 6.05213971e+00\n",
      " 2.67231768e+00 6.09452721e+01 1.85400778e+00 4.00833925e+01\n",
      " 2.42623415e+00 4.89319969e+01 1.36485005e+00 1.96359864e+02\n",
      " 5.37741420e+01 5.05298951e+00 1.00121946e+01 1.23364813e+00\n",
      " 6.41213768e+01 0.00000000e+00 1.33762010e+02 0.00000000e+00\n",
      " 9.97451067e+01 1.39681987e+02 1.92620116e+01 1.52911130e+01\n",
      " 4.41569834e+00 3.22334926e+01 2.68832064e+00 1.24771981e+02\n",
      " 2.86944916e+00 1.81519902e+02 1.25823649e+00 2.10391112e+02\n",
      " 3.70412590e+01 1.86393154e+01 3.72415398e+01 1.37122880e+01\n",
      " 1.29441379e+02 1.34061013e+01 2.74191360e+02 1.80616883e+01\n",
      " 2.35437390e+02 1.10655803e+01 4.35186063e+01 4.56723281e+01\n",
      " 4.02997236e+01 1.59151490e+02 4.65168540e+01 2.00692658e+02\n",
      " 9.84860827e+01 1.91527461e+02 5.26106258e+01 5.48231318e+02]\n"
     ]
    },
    {
     "data": {
      "text/plain": [
       "<matplotlib.image.AxesImage at 0x7f8b1c5014e0>"
      ]
     },
     "execution_count": 79,
     "metadata": {},
     "output_type": "execute_result"
    },
    {
     "data": {
      "image/png": "[encoded data removed]",
      "text/plain": [
       "<Figure size 864x360 with 2 Axes>"
      ]
     },
     "metadata": {
      "needs_background": "light"
     },
     "output_type": "display_data"
    }
   ],
   "source": [
    "print(trainer.obs_score_final)\n",
    "plt.figure(figsize = (12,5))\n",
    "plt.subplot(1,2,1)\n",
    "plt.bar(range(env.N_obs), trainer.obs_score)\n",
    "plt.subplot(1,2,2)\n",
    "plt.imshow(trainer.obs_score.reshape(side,side))"
   ]
  },
  {
   "cell_type": "code",
   "execution_count": 80,
   "metadata": {
    "scrolled": false
   },
   "outputs": [
    {
     "data": {
      "image/png": "[encoded data removed]",
      "text/plain": [
       "<Figure size 1080x1440 with 20 Axes>"
      ]
     },
     "metadata": {
      "needs_background": "light"
     },
     "output_type": "display_data"
    }
   ],
   "source": [
    "plt.figure(figsize=(15,20))\n",
    "for i in range(1, 21):\n",
    "    plt.subplot(4,5,i)\n",
    "    plt.imshow(trainer.mem_V[i * N//20].reshape(side,side))"
   ]
  },
  {
   "cell_type": "code",
   "execution_count": null,
   "metadata": {},
   "outputs": [],
   "source": []
  },
  {
   "cell_type": "code",
   "execution_count": null,
   "metadata": {},
   "outputs": [],
   "source": [
    "trainer.mem_V"
   ]
  },
  {
   "cell_type": "code",
   "execution_count": null,
   "metadata": {},
   "outputs": [],
   "source": []
  },
  {
   "cell_type": "code",
   "execution_count": null,
   "metadata": {},
   "outputs": [],
   "source": []
  },
  {
   "cell_type": "code",
   "execution_count": null,
   "metadata": {},
   "outputs": [],
   "source": []
  },
  {
   "cell_type": "code",
   "execution_count": null,
   "metadata": {},
   "outputs": [],
   "source": []
  },
  {
   "cell_type": "code",
   "execution_count": null,
   "metadata": {},
   "outputs": [],
   "source": []
  },
  {
   "cell_type": "code",
   "execution_count": null,
   "metadata": {},
   "outputs": [],
   "source": []
  },
  {
   "cell_type": "code",
   "execution_count": null,
   "metadata": {},
   "outputs": [],
   "source": []
  },
  {
   "cell_type": "code",
   "execution_count": null,
   "metadata": {},
   "outputs": [],
   "source": []
  }
 ],
 "metadata": {
  "kernelspec": {
   "display_name": "Python 3",
   "language": "python",
   "name": "python3"
  },
  "language_info": {
   "codemirror_mode": {
    "name": "ipython",
    "version": 3
   },
   "file_extension": ".py",
   "mimetype": "text/x-python",
   "name": "python",
   "nbconvert_exporter": "python",
   "pygments_lexer": "ipython3",
   "version": "3.7.3rc1"
  }
 },
 "nbformat": 4,
 "nbformat_minor": 2
}
